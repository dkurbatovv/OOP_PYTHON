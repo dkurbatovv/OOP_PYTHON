{
  "nbformat": 4,
  "nbformat_minor": 0,
  "metadata": {
    "colab": {
      "name": "ООП_База.ipynb",
      "private_outputs": true,
      "provenance": [],
      "authorship_tag": "ABX9TyPGylwMjGrqOhFZp3qbLCuQ",
      "include_colab_link": true
    },
    "kernelspec": {
      "name": "python3",
      "display_name": "Python 3"
    },
    "language_info": {
      "name": "python"
    }
  },
  "cells": [
    {
      "cell_type": "markdown",
      "metadata": {
        "id": "view-in-github",
        "colab_type": "text"
      },
      "source": [
        "<a href=\"https://colab.research.google.com/github/dkurbatovv/OOP_PYTHON/blob/main/%D0%9E%D0%9E%D0%9F_%D0%91%D0%B0%D0%B7%D0%B0.ipynb\" target=\"_parent\"><img src=\"https://colab.research.google.com/assets/colab-badge.svg\" alt=\"Open In Colab\"/></a>"
      ]
    },
    {
      "cell_type": "code",
      "execution_count": null,
      "metadata": {
        "id": "3WQtMmu9jvFe"
      },
      "outputs": [],
      "source": [
        "#№1\n",
        "\n",
        "class Soda:\n",
        "    def __init__(self, ingredient):\n",
        "        if isinstance(ingredient, str):\n",
        "            self.ingredient = ingredient\n",
        "        else:\n",
        "            self.ingredient = None\n",
        "\n",
        "    def show_my_drink(self):\n",
        "        if self.ingredient:\n",
        "            print(f'Газировка и {self.ingredient}')\n",
        "        else:\n",
        "            print('Обычная газировка')\n",
        "\n",
        " \n",
        "# Тесты\n",
        "drink2 = Soda('малина')\n",
        "drink3 = Soda(5)\n",
        "drink2.show_my_drink()\n",
        "drink3.show_my_drink()"
      ]
    },
    {
      "cell_type": "code",
      "source": [
        "#№2\n",
        "\n",
        "class TriangleChecker:\n",
        "  def __init__(self, a, b, c):\n",
        "    if isinstance(a,int) and isinstance(b,int) and isinstance(c,int):\n",
        "      self.a = a\n",
        "      self.b = b\n",
        "      self.c = c\n",
        "    else:\n",
        "      self.a = None\n",
        "      self.b = None\n",
        "      self.c = None   \n",
        "\n",
        "  def is_triangle(self):\n",
        "    if (not isinstance(self.a, int)) or (not isinstance(self.b, int)) or (not isinstance(self.c, int)):\n",
        "      print('Нужно вводить только числа!');\n",
        "    if (self.a < self.b + self.c) and (self.b < self.a + self.c) and (self.c < self.a + self.b):\n",
        "      print('Ура, можно строить треугольник');\n",
        "    else:\n",
        "      print('Жаль, но из этого треугольник не выйдет:(')  \n",
        "\n",
        "\n",
        "treangle = TriangleChecker(5,2,3)\n",
        "treangle.is_triangle()"
      ],
      "metadata": {
        "id": "xnfjF-sdkup1"
      },
      "execution_count": null,
      "outputs": []
    },
    {
      "cell_type": "code",
      "source": [
        ""
      ],
      "metadata": {
        "id": "I6hEdmYKkY-q"
      },
      "execution_count": null,
      "outputs": []
    },
    {
      "cell_type": "code",
      "source": [
        "#№3\n",
        "\n",
        "class KgToPounds:\n",
        "  def __init__(self, kg):\n",
        "    self.__kg = kg\n",
        "\n",
        "  def to_pounds(self):\n",
        "    return self.__kg * 2.2  \n",
        "\n",
        "\n",
        "  def set_kg(self, new_kg):\n",
        "      if isinstance(new_kg, (int, float)):\n",
        "          self.__kg = new_kg\n",
        "      else:\n",
        "          raise ValueError('Килограммы задаются только числами')\n",
        "    \n",
        "  def get_kg(self):\n",
        "      return self.__kg\n"
      ],
      "metadata": {
        "id": "qXtZZxmull8Z"
      },
      "execution_count": null,
      "outputs": []
    },
    {
      "cell_type": "code",
      "source": [
        "class KgToPounds2:\n",
        "  def __init__(self, kg):\n",
        "    self.__kg = kg\n",
        "\n",
        "  def to_pounds(self):\n",
        "    return self.__kg * 2.2\n",
        "\n",
        "\n",
        "  @property\n",
        "  def kg(self):\n",
        "    return self.__kg\n",
        "\n",
        "  @kg.setter\n",
        "  def kg(self, new_kg):\n",
        "    if isinstance(new_kg, (int, float)):\n",
        "        self.__kg = new_kg\n",
        "    else:\n",
        "        raise ValueError('Килограммы задаются только числами')      \n",
        "\n",
        "\n",
        "weight = KgToPounds2(12)\n",
        "print(weight.to_pounds())\n",
        "print(weight.kg)\n",
        "weight.kg = 41\n",
        "print(weight.kg)       "
      ],
      "metadata": {
        "id": "AMouNUCKsBMU"
      },
      "execution_count": null,
      "outputs": []
    },
    {
      "cell_type": "code",
      "source": [
        "#№4\n",
        "\n",
        "\n",
        "class Nikola:\n",
        "  __slots__ = ['name', 'age']\n",
        "\n",
        "  def __init__(self, name, age):\n",
        "    self.name = name\n",
        "    if (self.name != 'Николай'):\n",
        "      self.name = f'Я не {self.name}, а Николай'\n",
        "    self.age = age  \n",
        "\n",
        "  \n",
        "\n",
        "person1 = Nikola('Николай', 15)\n",
        "print(person1.name)\n",
        "print(person1.age)\n",
        "person2 = Nikola('Andy', 26)\n",
        "print(person2.name)\n",
        "print(person2.age)"
      ],
      "metadata": {
        "id": "xGdTwQyVtoUW"
      },
      "execution_count": null,
      "outputs": []
    },
    {
      "cell_type": "code",
      "source": [
        ""
      ],
      "metadata": {
        "id": "L6zVm9cJvrwN"
      },
      "execution_count": null,
      "outputs": []
    }
  ]
}